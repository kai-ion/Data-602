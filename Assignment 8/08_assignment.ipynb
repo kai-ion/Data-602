{
  "cells": [
    {
      "cell_type": "code",
      "execution_count": null,
      "metadata": {
        "id": "JRVSlmImo_cQ"
      },
      "outputs": [],
      "source": []
    },
    {
      "cell_type": "markdown",
      "metadata": {
        "id": "view-in-github"
      },
      "source": [
        "<a href=\"https://colab.research.google.com/github/data602sps/assignments/blob/master/05_assignment.ipynb\" target=\"_parent\"><img src=\"https://colab.research.google.com/assets/colab-badge.svg\" alt=\"Open In Colab\"/></a>"
      ]
    },
    {
      "cell_type": "markdown",
      "metadata": {
        "id": "rd2QZetSDszc"
      },
      "source": [
        "# **Assignment 8**\n",
        "\n",
        "# **Weeks 10 & 11- matplotlib & seaborn**\n",
        "* In this homework assignment, you will explore and analyze a public dataset of your choosing. Since this assignment is “open-ended” in nature, you are free to expand upon the requirements below. However, you must meet the minimum requirments as indicated in each section.\n",
        "\n",
        "\n",
        "* The preferred method for this analysis is in a .ipynb file. Feel free to use whichever platform of your choosing.  \n",
        "\n",
        "\n",
        "### **Some data examples:**\n",
        "•\thttps://www.data.gov/\n",
        "\n",
        "•\thttps://opendata.cityofnewyork.us/\n",
        "\n",
        "•\thttps://datasetsearch.research.google.com/\n",
        "\n",
        "•\thttps://archive.ics.uci.edu/ml/index.php\n",
        "\n",
        "### **Resources:**\n",
        "\n",
        "•\thttps://pandas.pydata.org/pandas-docs/stable/getting_started/10min.html\n",
        "\n",
        "•\thttps://www.oreilly.com/library/view/python-data-science/9781491912126/ch04.html\n",
        "\n",
        "•\thttps://www.data-to-viz.com/\n",
        "\n",
        "\n",
        "\n",
        "### **Headings or comments**\n",
        "**You are required to make use of comments, or headings for each section.  You must explain what your code is doing, and the results of running your code.**  Act as if you were giving this assignment to your manager - you must include clear and descriptive information for each section.\n",
        "\n",
        "### **You may work as a group or indivdually on this assignment.**\n"
      ]
    },
    {
      "cell_type": "markdown",
      "metadata": {
        "id": "uW3w6p8rqgxu"
      },
      "source": [
        "# Introduction\n",
        "\n",
        "In this section, please describe the dataset you are using.  Include a link to the source of this data.  You should also provide some explanation on why you choose this dataset."
      ]
    },
    {
      "cell_type": "markdown",
      "metadata": {},
      "source": [
        "https://www.kaggle.com/datasets/philiphyde1/nfl-stats-1999-2022"
      ]
    },
    {
      "cell_type": "markdown",
      "metadata": {
        "id": "3bp8cdDxDs2t"
      },
      "source": [
        "______________\n",
        "# Data Exploration\n",
        "Import your dataset into your .ipynb, create dataframes, and explore your data.  \n",
        "\n",
        "Include:\n",
        "\n",
        "* Summary statistics means, medians, quartiles,\n",
        "* Missing value information\n",
        "* Any other relevant information about the dataset.  \n",
        "\n"
      ]
    },
    {
      "cell_type": "code",
      "execution_count": 1,
      "metadata": {
        "id": "3NUlO_ru1WqR"
      },
      "outputs": [
        {
          "name": "stdout",
          "output_type": "stream",
          "text": [
            "Summary Statistics:\n",
            "            season  total_snaps  yards_gained   touchdown  \\\n",
            "count   384.000000   384.000000    384.000000  384.000000   \n",
            "mean   2017.500000  1024.260417   9670.447917   41.651042   \n",
            "std       3.456556    52.252549   1050.132630    9.114479   \n",
            "min    2012.000000   866.000000   6761.000000   21.000000   \n",
            "25%    2014.750000   989.000000   8916.500000   35.000000   \n",
            "50%    2017.500000  1018.000000   9669.500000   40.000000   \n",
            "75%    2020.250000  1060.250000  10348.250000   48.000000   \n",
            "max    2023.000000  1181.000000  12913.000000   74.000000   \n",
            "\n",
            "       extra_point_attempt  field_goal_attempt  total_points   td_points  \\\n",
            "count           384.000000          384.000000    384.000000  384.000000   \n",
            "mean             36.473958           26.591146    366.153646  249.906250   \n",
            "std               9.614195            5.581770     64.798179   54.686876   \n",
            "min              16.000000            8.000000    227.000000  126.000000   \n",
            "25%              30.000000           23.000000    319.750000  210.000000   \n",
            "50%              35.000000           27.000000    361.000000  240.000000   \n",
            "75%              43.000000           30.000000    411.000000  288.000000   \n",
            "max              75.000000           41.000000    594.000000  444.000000   \n",
            "\n",
            "        xp_points   fg_points  ...  home_losses  home_ties   away_wins  \\\n",
            "count  384.000000  384.000000  ...   384.000000  384.00000  384.000000   \n",
            "mean    36.473958   79.773438  ...     3.622396    0.03125    3.591146   \n",
            "std      9.614195   16.745311  ...     1.792243    0.17422    1.791195   \n",
            "min     16.000000   24.000000  ...     0.000000    0.00000    0.000000   \n",
            "25%     30.000000   69.000000  ...     2.000000    0.00000    2.000000   \n",
            "50%     35.000000   81.000000  ...     4.000000    0.00000    4.000000   \n",
            "75%     43.000000   90.000000  ...     5.000000    0.00000    5.000000   \n",
            "max     75.000000  123.000000  ...     8.000000    1.00000    8.000000   \n",
            "\n",
            "       away_losses  away_ties        wins      losses        ties     win_pct  \\\n",
            "count   384.000000  384.00000  384.000000  384.000000  384.000000  384.000000   \n",
            "mean      4.531250    0.03125    8.091146    8.153646    0.062500    0.496836   \n",
            "std       1.787412    0.17422    3.065776    3.073484    0.242377    0.189440   \n",
            "min       0.000000    0.00000    0.000000    1.000000    0.000000    0.000000   \n",
            "25%       3.000000    0.00000    6.000000    6.000000    0.000000    0.375000   \n",
            "50%       5.000000    0.00000    8.000000    8.000000    0.000000    0.500000   \n",
            "75%       6.000000    0.00000   10.250000   10.000000    0.000000    0.630500   \n",
            "max       9.000000    1.00000   15.000000   16.000000    1.000000    0.938000   \n",
            "\n",
            "              yps  \n",
            "count  384.000000  \n",
            "mean     9.439036  \n",
            "std      0.884055  \n",
            "min      7.100000  \n",
            "25%      8.787500  \n",
            "50%      9.385000  \n",
            "75%     10.020000  \n",
            "max     12.130000  \n",
            "\n",
            "[8 rows x 49 columns]\n",
            "\n",
            "Medians:\n",
            "season                 2017.500\n",
            "total_snaps            1018.000\n",
            "yards_gained           9669.500\n",
            "touchdown                40.000\n",
            "extra_point_attempt      35.000\n",
            "field_goal_attempt       27.000\n",
            "total_points            361.000\n",
            "td_points               240.000\n",
            "xp_points                35.000\n",
            "fg_points                81.000\n",
            "fumble                   17.000\n",
            "fumble_lost               8.000\n",
            "shotgun                 638.000\n",
            "no_huddle                74.500\n",
            "qb_dropback             630.000\n",
            "pass_snaps_count        607.000\n",
            "pass_snaps_pct            0.590\n",
            "pass_attempts           551.500\n",
            "complete_pass           357.000\n",
            "incomplete_pass         191.000\n",
            "air_yards              4571.000\n",
            "passing_yards          4020.000\n",
            "pass_td                  26.000\n",
            "interception             13.000\n",
            "targets                 551.500\n",
            "receptions              357.000\n",
            "receiving_yards        4018.000\n",
            "yards_after_catch      1841.000\n",
            "receiving_td             26.000\n",
            "pass_fumble              10.000\n",
            "pass_fumble_lost          5.000\n",
            "rush_snaps_count        415.000\n",
            "rush_snaps_pct            0.410\n",
            "qb_scramble              22.000\n",
            "rushing_yards          1820.000\n",
            "run_td                   13.000\n",
            "run_fumble                7.000\n",
            "run_fumble_lost           3.000\n",
            "home_wins                 5.000\n",
            "home_losses               4.000\n",
            "home_ties                 0.000\n",
            "away_wins                 4.000\n",
            "away_losses               5.000\n",
            "away_ties                 0.000\n",
            "wins                      8.000\n",
            "losses                    8.000\n",
            "ties                      0.000\n",
            "win_pct                   0.500\n",
            "yps                       9.385\n",
            "dtype: float64\n"
          ]
        },
        {
          "name": "stderr",
          "output_type": "stream",
          "text": [
            "C:\\Users\\Kai\\AppData\\Local\\Temp\\ipykernel_28008\\3798278726.py:16: FutureWarning: The default value of numeric_only in DataFrame.median is deprecated. In a future version, it will default to False. In addition, specifying 'numeric_only=None' is deprecated. Select only valid columns or specify the value of numeric_only to silence this warning.\n",
            "  medians = df.median()\n"
          ]
        }
      ],
      "source": [
        "# Step 1: Import necessary libraries\n",
        "import pandas as pd\n",
        "\n",
        "# Step 2: Load the dataset \n",
        "df = pd.read_csv('yearly_team_data.csv')\n",
        "\n",
        "# Step 3: Display the first few rows of the dataframe to get an overview\n",
        "df.head()\n",
        "\n",
        "# Step 4: Summary statistics (mean, median, quartiles)\n",
        "summary_statistics = df.describe()\n",
        "print(\"Summary Statistics:\")\n",
        "print(summary_statistics)\n",
        "\n",
        "# Step 5: Median for each column\n",
        "medians = df.median()\n",
        "print(\"\\nMedians:\")\n",
        "print(medians)\n"
      ]
    },
    {
      "cell_type": "code",
      "execution_count": 2,
      "metadata": {},
      "outputs": [
        {
          "name": "stdout",
          "output_type": "stream",
          "text": [
            "\n",
            "Missing Values:\n",
            "team                   0\n",
            "season                 0\n",
            "total_snaps            0\n",
            "yards_gained           0\n",
            "touchdown              0\n",
            "extra_point_attempt    0\n",
            "field_goal_attempt     0\n",
            "total_points           0\n",
            "td_points              0\n",
            "xp_points              0\n",
            "fg_points              0\n",
            "fumble                 0\n",
            "fumble_lost            0\n",
            "shotgun                0\n",
            "no_huddle              0\n",
            "qb_dropback            0\n",
            "pass_snaps_count       0\n",
            "pass_snaps_pct         0\n",
            "pass_attempts          0\n",
            "complete_pass          0\n",
            "incomplete_pass        0\n",
            "air_yards              0\n",
            "passing_yards          0\n",
            "pass_td                0\n",
            "interception           0\n",
            "targets                0\n",
            "receptions             0\n",
            "receiving_yards        0\n",
            "yards_after_catch      0\n",
            "receiving_td           0\n",
            "pass_fumble            0\n",
            "pass_fumble_lost       0\n",
            "rush_snaps_count       0\n",
            "rush_snaps_pct         0\n",
            "qb_scramble            0\n",
            "rushing_yards          0\n",
            "run_td                 0\n",
            "run_fumble             0\n",
            "run_fumble_lost        0\n",
            "home_wins              0\n",
            "home_losses            0\n",
            "home_ties              0\n",
            "away_wins              0\n",
            "away_losses            0\n",
            "away_ties              0\n",
            "wins                   0\n",
            "losses                 0\n",
            "ties                   0\n",
            "win_pct                0\n",
            "record                 0\n",
            "yps                    0\n",
            "dtype: int64\n"
          ]
        }
      ],
      "source": [
        "# Step 6: Checking for missing values\n",
        "missing_values = df.isnull().sum()\n",
        "print(\"\\nMissing Values:\")\n",
        "print(missing_values)"
      ]
    },
    {
      "cell_type": "code",
      "execution_count": 3,
      "metadata": {},
      "outputs": [
        {
          "name": "stdout",
          "output_type": "stream",
          "text": [
            "\n",
            "Dataset Info:\n",
            "<class 'pandas.core.frame.DataFrame'>\n",
            "RangeIndex: 384 entries, 0 to 383\n",
            "Data columns (total 51 columns):\n",
            " #   Column               Non-Null Count  Dtype  \n",
            "---  ------               --------------  -----  \n",
            " 0   team                 384 non-null    object \n",
            " 1   season               384 non-null    int64  \n",
            " 2   total_snaps          384 non-null    int64  \n",
            " 3   yards_gained         384 non-null    int64  \n",
            " 4   touchdown            384 non-null    int64  \n",
            " 5   extra_point_attempt  384 non-null    int64  \n",
            " 6   field_goal_attempt   384 non-null    int64  \n",
            " 7   total_points         384 non-null    int64  \n",
            " 8   td_points            384 non-null    int64  \n",
            " 9   xp_points            384 non-null    int64  \n",
            " 10  fg_points            384 non-null    int64  \n",
            " 11  fumble               384 non-null    int64  \n",
            " 12  fumble_lost          384 non-null    int64  \n",
            " 13  shotgun              384 non-null    int64  \n",
            " 14  no_huddle            384 non-null    int64  \n",
            " 15  qb_dropback          384 non-null    int64  \n",
            " 16  pass_snaps_count     384 non-null    int64  \n",
            " 17  pass_snaps_pct       384 non-null    float64\n",
            " 18  pass_attempts        384 non-null    int64  \n",
            " 19  complete_pass        384 non-null    int64  \n",
            " 20  incomplete_pass      384 non-null    int64  \n",
            " 21  air_yards            384 non-null    int64  \n",
            " 22  passing_yards        384 non-null    int64  \n",
            " 23  pass_td              384 non-null    int64  \n",
            " 24  interception         384 non-null    int64  \n",
            " 25  targets              384 non-null    int64  \n",
            " 26  receptions           384 non-null    int64  \n",
            " 27  receiving_yards      384 non-null    int64  \n",
            " 28  yards_after_catch    384 non-null    int64  \n",
            " 29  receiving_td         384 non-null    int64  \n",
            " 30  pass_fumble          384 non-null    int64  \n",
            " 31  pass_fumble_lost     384 non-null    int64  \n",
            " 32  rush_snaps_count     384 non-null    int64  \n",
            " 33  rush_snaps_pct       384 non-null    float64\n",
            " 34  qb_scramble          384 non-null    int64  \n",
            " 35  rushing_yards        384 non-null    int64  \n",
            " 36  run_td               384 non-null    int64  \n",
            " 37  run_fumble           384 non-null    int64  \n",
            " 38  run_fumble_lost      384 non-null    int64  \n",
            " 39  home_wins            384 non-null    int64  \n",
            " 40  home_losses          384 non-null    int64  \n",
            " 41  home_ties            384 non-null    int64  \n",
            " 42  away_wins            384 non-null    int64  \n",
            " 43  away_losses          384 non-null    int64  \n",
            " 44  away_ties            384 non-null    int64  \n",
            " 45  wins                 384 non-null    int64  \n",
            " 46  losses               384 non-null    int64  \n",
            " 47  ties                 384 non-null    int64  \n",
            " 48  win_pct              384 non-null    float64\n",
            " 49  record               384 non-null    object \n",
            " 50  yps                  384 non-null    float64\n",
            "dtypes: float64(4), int64(45), object(2)\n",
            "memory usage: 153.1+ KB\n"
          ]
        }
      ],
      "source": [
        "# Step 7: Additional dataset information (data types, non-null count, etc.)\n",
        "print(\"\\nDataset Info:\")\n",
        "df.info()"
      ]
    },
    {
      "cell_type": "code",
      "execution_count": 4,
      "metadata": {},
      "outputs": [
        {
          "name": "stdout",
          "output_type": "stream",
          "text": [
            "\n",
            "Number of unique values in team: 32\n",
            "\n",
            "Number of unique values in record: 42\n",
            "\n",
            "Column Names:\n",
            "Index(['team', 'season', 'total_snaps', 'yards_gained', 'touchdown',\n",
            "       'extra_point_attempt', 'field_goal_attempt', 'total_points',\n",
            "       'td_points', 'xp_points', 'fg_points', 'fumble', 'fumble_lost',\n",
            "       'shotgun', 'no_huddle', 'qb_dropback', 'pass_snaps_count',\n",
            "       'pass_snaps_pct', 'pass_attempts', 'complete_pass', 'incomplete_pass',\n",
            "       'air_yards', 'passing_yards', 'pass_td', 'interception', 'targets',\n",
            "       'receptions', 'receiving_yards', 'yards_after_catch', 'receiving_td',\n",
            "       'pass_fumble', 'pass_fumble_lost', 'rush_snaps_count', 'rush_snaps_pct',\n",
            "       'qb_scramble', 'rushing_yards', 'run_td', 'run_fumble',\n",
            "       'run_fumble_lost', 'home_wins', 'home_losses', 'home_ties', 'away_wins',\n",
            "       'away_losses', 'away_ties', 'wins', 'losses', 'ties', 'win_pct',\n",
            "       'record', 'yps'],\n",
            "      dtype='object')\n"
          ]
        }
      ],
      "source": [
        "# Step 8: Identify unique values for categorical variables (if any)\n",
        "for column in df.select_dtypes(include=['object']).columns:\n",
        "    unique_values = df[column].nunique()\n",
        "    print(f\"\\nNumber of unique values in {column}: {unique_values}\")\n",
        "\n",
        "# Step 9: Display the column names to understand available data\n",
        "print(\"\\nColumn Names:\")\n",
        "print(df.columns)"
      ]
    },
    {
      "cell_type": "markdown",
      "metadata": {
        "id": "kCSLIafaEGVK"
      },
      "source": [
        "# Data Wrangling\n",
        "\n",
        "Perform data wrangling.  You are free to use your best judgment here.  If you are stuck, look at previous assignment."
      ]
    },
    {
      "cell_type": "code",
      "execution_count": 5,
      "metadata": {},
      "outputs": [
        {
          "name": "stdout",
          "output_type": "stream",
          "text": [
            "<class 'pandas.core.frame.DataFrame'>\n",
            "RangeIndex: 384 entries, 0 to 383\n",
            "Data columns (total 51 columns):\n",
            " #   Column               Non-Null Count  Dtype  \n",
            "---  ------               --------------  -----  \n",
            " 0   team                 384 non-null    object \n",
            " 1   season               384 non-null    int64  \n",
            " 2   total_snaps          384 non-null    int64  \n",
            " 3   yards_gained         384 non-null    int64  \n",
            " 4   touchdown            384 non-null    int64  \n",
            " 5   extra_point_attempt  384 non-null    int64  \n",
            " 6   field_goal_attempt   384 non-null    int64  \n",
            " 7   total_points         384 non-null    int64  \n",
            " 8   td_points            384 non-null    int64  \n",
            " 9   xp_points            384 non-null    int64  \n",
            " 10  fg_points            384 non-null    int64  \n",
            " 11  fumble               384 non-null    int64  \n",
            " 12  fumble_lost          384 non-null    int64  \n",
            " 13  shotgun              384 non-null    int64  \n",
            " 14  no_huddle            384 non-null    int64  \n",
            " 15  qb_dropback          384 non-null    int64  \n",
            " 16  pass_snaps_count     384 non-null    int64  \n",
            " 17  pass_snaps_pct       384 non-null    float64\n",
            " 18  pass_attempts        384 non-null    int64  \n",
            " 19  complete_pass        384 non-null    int64  \n",
            " 20  incomplete_pass      384 non-null    int64  \n",
            " 21  air_yards            384 non-null    int64  \n",
            " 22  passing_yards        384 non-null    int64  \n",
            " 23  pass_td              384 non-null    int64  \n",
            " 24  interception         384 non-null    int64  \n",
            " 25  targets              384 non-null    int64  \n",
            " 26  receptions           384 non-null    int64  \n",
            " 27  receiving_yards      384 non-null    int64  \n",
            " 28  yards_after_catch    384 non-null    int64  \n",
            " 29  receiving_td         384 non-null    int64  \n",
            " 30  pass_fumble          384 non-null    int64  \n",
            " 31  pass_fumble_lost     384 non-null    int64  \n",
            " 32  rush_snaps_count     384 non-null    int64  \n",
            " 33  rush_snaps_pct       384 non-null    float64\n",
            " 34  qb_scramble          384 non-null    int64  \n",
            " 35  rushing_yards        384 non-null    int64  \n",
            " 36  run_td               384 non-null    int64  \n",
            " 37  run_fumble           384 non-null    int64  \n",
            " 38  run_fumble_lost      384 non-null    int64  \n",
            " 39  home_wins            384 non-null    int64  \n",
            " 40  home_losses          384 non-null    int64  \n",
            " 41  home_ties            384 non-null    int64  \n",
            " 42  away_wins            384 non-null    int64  \n",
            " 43  away_losses          384 non-null    int64  \n",
            " 44  away_ties            384 non-null    int64  \n",
            " 45  wins                 384 non-null    int64  \n",
            " 46  losses               384 non-null    int64  \n",
            " 47  ties                 384 non-null    int64  \n",
            " 48  win_pct              384 non-null    float64\n",
            " 49  record               384 non-null    object \n",
            " 50  yps                  384 non-null    float64\n",
            "dtypes: float64(4), int64(45), object(2)\n",
            "memory usage: 153.1+ KB\n"
          ]
        }
      ],
      "source": [
        "# Display dataset to see what changes to be made\n",
        "df.info()"
      ]
    },
    {
      "cell_type": "code",
      "execution_count": 6,
      "metadata": {
        "id": "xEkLsm7g1UiZ"
      },
      "outputs": [
        {
          "name": "stdout",
          "output_type": "stream",
          "text": [
            "<class 'pandas.core.frame.DataFrame'>\n",
            "RangeIndex: 384 entries, 0 to 383\n",
            "Data columns (total 51 columns):\n",
            " #   Column               Non-Null Count  Dtype  \n",
            "---  ------               --------------  -----  \n",
            " 0   team                 384 non-null    object \n",
            " 1   season               384 non-null    int64  \n",
            " 2   total_snaps          384 non-null    int64  \n",
            " 3   yards_gained         384 non-null    int64  \n",
            " 4   touchdown            384 non-null    int64  \n",
            " 5   extra_point_attempt  384 non-null    int64  \n",
            " 6   field_goal_attempt   384 non-null    int64  \n",
            " 7   total_points         384 non-null    int64  \n",
            " 8   td_points            384 non-null    int64  \n",
            " 9   xp_points            384 non-null    int64  \n",
            " 10  fg_points            384 non-null    int64  \n",
            " 11  fumble               384 non-null    int64  \n",
            " 12  fumble_lost          384 non-null    int64  \n",
            " 13  shotgun              384 non-null    int64  \n",
            " 14  no_huddle            384 non-null    int64  \n",
            " 15  qb_dropback          384 non-null    int64  \n",
            " 16  pass_snaps_count     384 non-null    int64  \n",
            " 17  pass_snaps_pct       384 non-null    float64\n",
            " 18  pass_attempts        384 non-null    int64  \n",
            " 19  complete_pass        384 non-null    int64  \n",
            " 20  incomplete_pass      384 non-null    int64  \n",
            " 21  air_yards            384 non-null    int64  \n",
            " 22  passing_yards        384 non-null    int64  \n",
            " 23  pass_td              384 non-null    int64  \n",
            " 24  interception         384 non-null    int64  \n",
            " 25  targets              384 non-null    int64  \n",
            " 26  receptions           384 non-null    int64  \n",
            " 27  receiving_yards      384 non-null    int64  \n",
            " 28  yards_after_catch    384 non-null    int64  \n",
            " 29  receiving_td         384 non-null    int64  \n",
            " 30  pass_fumble          384 non-null    int64  \n",
            " 31  pass_fumble_lost     384 non-null    int64  \n",
            " 32  rush_snaps_count     384 non-null    int64  \n",
            " 33  rush_snaps_pct       384 non-null    float64\n",
            " 34  qb_scramble          384 non-null    int64  \n",
            " 35  rushing_yards        384 non-null    int64  \n",
            " 36  run_td               384 non-null    int64  \n",
            " 37  run_fumble           384 non-null    int64  \n",
            " 38  run_fumble_lost      384 non-null    int64  \n",
            " 39  home_wins            384 non-null    int64  \n",
            " 40  home_losses          384 non-null    int64  \n",
            " 41  home_ties            384 non-null    int64  \n",
            " 42  away_wins            384 non-null    int64  \n",
            " 43  away_losses          384 non-null    int64  \n",
            " 44  away_ties            384 non-null    int64  \n",
            " 45  wins                 384 non-null    int64  \n",
            " 46  losses               384 non-null    int64  \n",
            " 47  ties                 384 non-null    int64  \n",
            " 48  win_pct              384 non-null    float64\n",
            " 49  record               384 non-null    object \n",
            " 50  yps                  384 non-null    float64\n",
            "dtypes: float64(4), int64(45), object(2)\n",
            "memory usage: 153.1+ KB\n"
          ]
        }
      ],
      "source": [
        "# Step 1: Clean column names for consistency (lowercase and replace spaces)\n",
        "df.columns = df.columns.str.strip().str.lower().str.replace(' ', '_')\n",
        "\n",
        "# Display cleaned dataset info to confirm changes\n",
        "df.info()\n",
        "\n",
        "\n"
      ]
    },
    {
      "cell_type": "code",
      "execution_count": 7,
      "metadata": {},
      "outputs": [],
      "source": [
        "# Step 2: Handle data types\n",
        "# Ensure numeric columns like 'win_pct' are properly formatted as floats and 'season' as integers\n",
        "df['season'] = df['season'].astype(int)  # Ensure 'season' is an integer\n",
        "df['win_pct'] = pd.to_numeric(df['win_pct'], errors='coerce')  # Convert 'win_pct' to float if not already\n",
        "\n",
        "# Step 3: Remove duplicates (if any)\n",
        "df = df.drop_duplicates()"
      ]
    },
    {
      "cell_type": "code",
      "execution_count": 8,
      "metadata": {},
      "outputs": [
        {
          "name": "stdout",
          "output_type": "stream",
          "text": [
            "<class 'pandas.core.frame.DataFrame'>\n",
            "Int64Index: 384 entries, 0 to 383\n",
            "Data columns (total 53 columns):\n",
            " #   Column               Non-Null Count  Dtype  \n",
            "---  ------               --------------  -----  \n",
            " 0   team                 384 non-null    object \n",
            " 1   season               384 non-null    int32  \n",
            " 2   total_snaps          384 non-null    int64  \n",
            " 3   yards_gained         384 non-null    int64  \n",
            " 4   touchdown            384 non-null    int64  \n",
            " 5   extra_point_attempt  384 non-null    int64  \n",
            " 6   field_goal_attempt   384 non-null    int64  \n",
            " 7   total_points         384 non-null    int64  \n",
            " 8   td_points            384 non-null    int64  \n",
            " 9   xp_points            384 non-null    int64  \n",
            " 10  fg_points            384 non-null    int64  \n",
            " 11  fumble               384 non-null    int64  \n",
            " 12  fumble_lost          384 non-null    int64  \n",
            " 13  shotgun              384 non-null    int64  \n",
            " 14  no_huddle            384 non-null    int64  \n",
            " 15  qb_dropback          384 non-null    int64  \n",
            " 16  pass_snaps_count     384 non-null    int64  \n",
            " 17  pass_snaps_pct       384 non-null    float64\n",
            " 18  pass_attempts        384 non-null    int64  \n",
            " 19  complete_pass        384 non-null    int64  \n",
            " 20  incomplete_pass      384 non-null    int64  \n",
            " 21  air_yards            384 non-null    int64  \n",
            " 22  passing_yards        384 non-null    int64  \n",
            " 23  pass_td              384 non-null    int64  \n",
            " 24  interception         384 non-null    int64  \n",
            " 25  targets              384 non-null    int64  \n",
            " 26  receptions           384 non-null    int64  \n",
            " 27  receiving_yards      384 non-null    int64  \n",
            " 28  yards_after_catch    384 non-null    int64  \n",
            " 29  receiving_td         384 non-null    int64  \n",
            " 30  pass_fumble          384 non-null    int64  \n",
            " 31  pass_fumble_lost     384 non-null    int64  \n",
            " 32  rush_snaps_count     384 non-null    int64  \n",
            " 33  rush_snaps_pct       384 non-null    float64\n",
            " 34  qb_scramble          384 non-null    int64  \n",
            " 35  rushing_yards        384 non-null    int64  \n",
            " 36  run_td               384 non-null    int64  \n",
            " 37  run_fumble           384 non-null    int64  \n",
            " 38  run_fumble_lost      384 non-null    int64  \n",
            " 39  home_wins            384 non-null    int64  \n",
            " 40  home_losses          384 non-null    int64  \n",
            " 41  home_ties            384 non-null    int64  \n",
            " 42  away_wins            384 non-null    int64  \n",
            " 43  away_losses          384 non-null    int64  \n",
            " 44  away_ties            384 non-null    int64  \n",
            " 45  wins                 384 non-null    int64  \n",
            " 46  losses               384 non-null    int64  \n",
            " 47  ties                 384 non-null    int64  \n",
            " 48  win_pct              384 non-null    float64\n",
            " 49  record               384 non-null    object \n",
            " 50  yps                  384 non-null    float64\n",
            " 51  games_played         384 non-null    int64  \n",
            " 52  points_per_game      384 non-null    float64\n",
            "dtypes: float64(5), int32(1), int64(45), object(2)\n",
            "memory usage: 160.5+ KB\n"
          ]
        }
      ],
      "source": [
        "# Step 4: Feature Engineering\n",
        "# Add a 'games_played' column (sum of wins, losses, and ties)\n",
        "df['games_played'] = df['wins'] + df['losses'] + df['ties']\n",
        "\n",
        "# Add a 'points_per_game' column\n",
        "df['points_per_game'] = df['total_points'] / df['games_played']\n",
        "\n",
        "# Step 5: Additional cleaning (if needed)\n",
        "# Check if any other columns need to be formatted or cleaned, based on your specific analysis requirements.\n",
        "\n",
        "# Step 6: Save the cleaned dataset\n",
        "df.to_csv('cleaned_nfl_stats.csv', index=False)\n",
        "\n",
        "# Display cleaned dataset info to confirm changes\n",
        "df.info()"
      ]
    },
    {
      "cell_type": "markdown",
      "metadata": {},
      "source": [
        "### Steps for Data Wrangling\n",
        "\n",
        "1. **Renaming Columns** for consistency (e.g., lowercasing and replacing spaces with underscores).\n",
        "2. **Handling Data Types** (e.g., ensuring percentage values are floats, season values are integers).\n",
        "3. **Creating New Features** based on existing columns for better analysis (e.g., average points per game).\n",
        "4. **Removing Duplicates** (though none seem to exist based on the row count).\n",
        "5. **Saving Cleaned Data** for future use.\n",
        "\n",
        "\n",
        "### Wrangling Breakdown\n",
        "\n",
        "1. **Column Renaming**: Columns are made consistent by converting to lowercase and replacing spaces with underscores for easier reference.\n",
        "   \n",
        "2. **Data Type Handling**: We ensure that `season` is an integer and that `win_pct` is in the correct float format. This is important for numerical analysis and calculations.\n",
        "\n",
        "3. **Feature Engineering**:\n",
        "   - **games_played**: Calculated as the sum of wins, losses, and ties for each team in a given season.\n",
        "   - **points_per_game**: Calculated by dividing total points by the number of games played.\n",
        "\n",
        "4. **Remove Duplicates**: Ensures that no duplicate rows are present in the dataset, though based on your data summary, duplicates seem unlikely.\n",
        "\n",
        "5. **Save Cleaned Data**: The cleaned data is saved as a new CSV file for future use.\n"
      ]
    },
    {
      "cell_type": "markdown",
      "metadata": {
        "id": "uJdF3TMe_TXU"
      },
      "source": [
        "# Visualizations\n",
        "\n",
        "The main purpose of this assignment is to practice creating various visualizations using the matplotlib and seaborn library.\n",
        "\n",
        "### **Part 1:**\n",
        "Using matplotlib, create ***two or more plots*** that incorporate at least **5** of the following properties:\n",
        "\n",
        "Note: these properties vary based on your data.  The goal is to practice creating visualizations and modifying its properties.\n",
        "\n",
        "*   Use and change a legend position\n",
        "*   Change a legend font size\n",
        "*   Place a legend outside of the plot\n",
        "*   Create a single legend for all subplots\n",
        "*   Change the title and x/y labels\n",
        "*   Change the marker, line colors, and line width\n",
        "*   Add annotations\n",
        "*   Modify Axis Text Ticks/Labels\n",
        "*   Change size of axis Labels\n",
        "*   Your own choice not included above\n",
        "\n",
        "\n",
        "Plots that you can create **include**:\n",
        "\n",
        "*   Scatter Plot\n",
        "*   Bar plot\n",
        "*   Line Chart\n",
        "*   Multi Plots (e.g. using .subplot()\n",
        "*   Histogram\n",
        "\n",
        "You can add another plot not listed here if it works better for your data.  This is not a complete list of plots to create.\n",
        "\n",
        "### **Part 2:**\n",
        "\n",
        "Recreate the visualizations above using the Seaborn library as best as possible.  \n",
        "\n",
        "\n",
        "**You are required to explain what each of your plots is representing. Plots without comments will not be accepted.**  In addition, please explain the properties you are showcasing.\n",
        "\n",
        "\n",
        "### **Part 3:**\n",
        "In a comment or text box, explain the differences between creating a plot in matplotlib and seaborn, based on your above plots.\n",
        "\n"
      ]
    },
    {
      "cell_type": "markdown",
      "metadata": {},
      "source": [
        "### **Part 1: Matplotlib Visualizations**"
      ]
    },
    {
      "cell_type": "markdown",
      "metadata": {},
      "source": [
        "#### Visualization 1: Bar Plot (Total Points by Team in a Season)\n",
        "This plot shows the total points scored by different teams in a season. We will use customizations like changing the legend position, modifying the font size, changing axis text labels, and adding annotations."
      ]
    },
    {
      "cell_type": "code",
      "execution_count": 9,
      "metadata": {},
      "outputs": [
        {
          "data": {
            "image/png": "[encoded data removed]",
            "text/plain": [
              "<Figure size 1000x600 with 1 Axes>"
            ]
          },
          "metadata": {},
          "output_type": "display_data"
        }
      ],
      "source": [
        "import matplotlib.pyplot as plt\n",
        "\n",
        "# Group data by team and season, and calculate the sum of points\n",
        "points_by_team = df.groupby('team')['total_points'].sum().sort_values(ascending=False)\n",
        "\n",
        "# Step 1: Create a bar plot\n",
        "plt.figure(figsize=(10, 6))\n",
        "plt.bar(points_by_team.index, points_by_team.values, color='skyblue')\n",
        "\n",
        "# Step 2: Customize the plot\n",
        "plt.title('Total Points by Team', fontsize=16)  # Change title\n",
        "plt.xlabel('Team', fontsize=12)  # Change x-label\n",
        "plt.ylabel('Total Points', fontsize=12)  # Change y-label\n",
        "plt.xticks(rotation=90, fontsize=8)  # Modify x-axis labels\n",
        "\n",
        "# Add annotations (text on top of bars)\n",
        "for i, v in enumerate(points_by_team.values):\n",
        "    plt.text(i, v + 10, str(v), ha='center', fontsize=8)\n",
        "\n",
        "# Step 3: Add a legend outside the plot\n",
        "plt.legend(['Total Points'], loc='upper center', fontsize=10, bbox_to_anchor=(0.5, 1.15))\n",
        "\n",
        "# Show the plot\n",
        "plt.tight_layout()\n",
        "plt.show()"
      ]
    },
    {
      "cell_type": "markdown",
      "metadata": {},
      "source": [
        "**Properties Showcased:**\n",
        "- Legend positioned outside the plot\n",
        "- Custom title and x/y labels\n",
        "- Modified axis text labels (rotated team names and changed font size)\n",
        "- Added annotations to show total points on top of each bar"
      ]
    },
    {
      "cell_type": "markdown",
      "metadata": {},
      "source": [
        "#### Visualization 2: Line Plot (Team Win Percentage Over Time)\n",
        "This plot shows how the win percentage of selected teams has changed over seasons. We'll include modifications like changing line colors, adjusting legend size, and adding markers."
      ]
    },
    {
      "cell_type": "code",
      "execution_count": 12,
      "metadata": {
        "id": "4VWWvvynEiQT"
      },
      "outputs": [
        {
          "data": {
            "image/png": "[encoded data removed]",
            "text/plain": [
              "<Figure size 1000x600 with 1 Axes>"
            ]
          },
          "metadata": {},
          "output_type": "display_data"
        }
      ],
      "source": [
        "# Step 1: Select specific teams for visualization\n",
        "teams = ['NE', 'GB', 'KC']\n",
        "team_win_pct = df[df['team'].isin(teams)].groupby(['team', 'season'])['win_pct'].mean().unstack('team')\n",
        "\n",
        "# Step 2: Create a line plot\n",
        "plt.figure(figsize=(10, 6))\n",
        "for team in teams:\n",
        "    plt.plot(team_win_pct.index, team_win_pct[team], marker='o', linewidth=2, label=team)\n",
        "\n",
        "# Step 3: Customize the plot\n",
        "plt.title('Win Percentage Over Time (Selected Teams)', fontsize=16)  # Custom title\n",
        "plt.xlabel('Season', fontsize=12)  # Custom x-label\n",
        "plt.ylabel('Win Percentage', fontsize=12)  # Custom y-label\n",
        "plt.xticks(fontsize=10)  # Modify x-axis labels\n",
        "\n",
        "# Change legend font size and position it\n",
        "plt.legend(fontsize=10, loc='upper right')  # Change font size of the legend\n",
        "\n",
        "# Show the plot\n",
        "plt.tight_layout()\n",
        "plt.show()\n"
      ]
    },
    {
      "cell_type": "markdown",
      "metadata": {},
      "source": [
        "**Properties Showcased:**\n",
        "- Custom line colors and markers\n",
        "- Changed legend position and font size\n",
        "- Custom title and labels\n",
        "- Added markers on the line plot"
      ]
    },
    {
      "cell_type": "code",
      "execution_count": null,
      "metadata": {
        "id": "N9sKmrIrDbhd"
      },
      "outputs": [],
      "source": []
    },
    {
      "cell_type": "markdown",
      "metadata": {
        "id": "vFa4bNTyDbzb"
      },
      "source": []
    },
    {
      "cell_type": "markdown",
      "metadata": {
        "id": "tujjevRpXEen"
      },
      "source": [
        "# Conclusions  \n",
        "\n",
        "After exploring your dataset, provide a short summary of what you noticed from this dataset.  "
      ]
    },
    {
      "cell_type": "code",
      "execution_count": null,
      "metadata": {
        "id": "SshtuQj9XR5_"
      },
      "outputs": [],
      "source": []
    }
  ],
  "metadata": {
    "colab": {
      "provenance": []
    },
    "kernelspec": {
      "display_name": "Python 3.11.0 64-bit",
      "language": "python",
      "name": "python3"
    },
    "language_info": {
      "codemirror_mode": {
        "name": "ipython",
        "version": 3
      },
      "file_extension": ".py",
      "mimetype": "text/x-python",
      "name": "python",
      "nbconvert_exporter": "python",
      "pygments_lexer": "ipython3",
      "version": "3.11.0"
    },
    "vscode": {
      "interpreter": {
        "hash": "94c21ec85cd25dc0a9e5b327ed81d1be109db9b6d041e68ffb694c8941427b34"
      }
    }
  },
  "nbformat": 4,
  "nbformat_minor": 0
}
