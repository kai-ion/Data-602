{
  "cells": [
    {
      "cell_type": "markdown",
      "metadata": {
        "colab_type": "text",
        "id": "view-in-github"
      },
      "source": [
        "<a href=\"https://colab.research.google.com/github/data602sps/datasetspractice/blob/main/07_assignment.ipynb\" target=\"_parent\"><img src=\"https://colab.research.google.com/assets/colab-badge.svg\" alt=\"Open In Colab\"/></a>"
      ]
    },
    {
      "cell_type": "markdown",
      "metadata": {
        "id": "rd2QZetSDszc"
      },
      "source": [
        "# **Assignment 7**\n",
        "\n",
        "# **Weeks 8 & 9 - Pandas**\n",
        "* In this homework assignment, you will explore and analyze a public dataset of your choosing. Since this assignment is “open-ended” in nature, you are free to expand upon the requirements below. However, you must meet the minimum requirments as indicated in each section. \n",
        "\n",
        "* You must use Pandas as the **primary tool** to process your data.\n",
        "\n",
        "* The preferred method for this analysis is in a .ipynb file. Feel free to use whichever platform of your choosing.  \n",
        " * https://www.youtube.com/watch?v=inN8seMm7UI (Getting started with Colab).\n",
        "\n",
        "* Your data should need some \"work\", or be considered \"dirty\".  You must show your skills in data cleaning/wrangling.\n",
        "\n",
        "### **Some data examples:**\n",
        "•\thttps://www.data.gov/\n",
        "\n",
        "•\thttps://opendata.cityofnewyork.us/\n",
        "\n",
        "•\thttps://datasetsearch.research.google.com/\n",
        "\n",
        "•\thttps://archive.ics.uci.edu/ml/index.php\n",
        "\n",
        "### **Resources:**\n",
        "\n",
        "•\thttps://pandas.pydata.org/pandas-docs/stable/getting_started/10min.html \n",
        "\n",
        "•\thttps://pandas.pydata.org/pandas-docs/stable/user_guide/visualization.html\n",
        "\n",
        "\n",
        "### **Headings or comments**\n",
        "**You are required to make use of comments, or headings for each section.  You must explain what your code is doing, and the results of running your code.**  Act as if you were giving this assignment to your manager - you must include clear and descriptive information for each section.\n",
        "\n",
        "### **You may work as a group or indivdually on this assignment.**\n"
      ]
    },
    {
      "cell_type": "markdown",
      "metadata": {
        "id": "uW3w6p8rqgxu"
      },
      "source": [
        "# Introduction\n",
        "\n",
        "In this section, please describe the dataset you are using.  Include a link to the source of this data.  You should also provide some explanation on why you choose this dataset."
      ]
    },
    {
      "cell_type": "markdown",
      "metadata": {
        "id": "L0PnfMOFzOXz"
      },
      "source": [
        "The dataset being used contains player information from the NBA. It includes the following columns:\n",
        "\n",
        "- **Name**: The name of the player.\n",
        "- **Team**: The team the player is associated with, in this case, all players belong to the Boston Celtics.\n",
        "- **Number**: The jersey number of the player.\n",
        "- **Position**: The player's position on the team, such as point guard (PG), small forward (SF), etc.\n",
        "- **Age**: The age of the player.\n",
        "- **Height**: The height of the player, typically in feet and inches.\n",
        "- **Weight**: The player's weight in pounds.\n",
        "- **AlmaMater**: The college the player attended (if applicable).\n",
        "- **Salary**: The player's salary in USD (some values are missing).\n",
        "\n",
        "### Source of the Data\n",
        "The dataset was part of the zip file\n",
        "\n",
        "### Reason for Choosing This Dataset\n",
        "I chose this dataset because I like basketball"
      ]
    },
    {
      "cell_type": "markdown",
      "metadata": {
        "id": "3bp8cdDxDs2t"
      },
      "source": [
        "______________\n",
        "# Data Exploration\n",
        "Import your dataset into your .ipynb, create dataframes, and explore your data.  \n",
        "\n",
        "Include: \n",
        "\n",
        "* Summary statistics means, medians, quartiles, \n",
        "* Missing value information\n",
        "* Any other relevant information about the dataset.  \n",
        "\n"
      ]
    },
    {
      "cell_type": "code",
      "execution_count": 58,
      "metadata": {
        "id": "1OJmbafkEhhq"
      },
      "outputs": [],
      "source": [
        "# Import pandas\n",
        "import pandas as pd"
      ]
    },
    {
      "cell_type": "code",
      "execution_count": 59,
      "metadata": {
        "id": "b0WTKtqozNn1"
      },
      "outputs": [
        {
          "name": "stdout",
          "output_type": "stream",
          "text": [
            "            Name            Team  Number Position   Age Height  Weight  \\\n",
            "0  Avery Bradley  Boston Celtics     0.0       PG  25.0    6-2   180.0   \n",
            "1    Jae Crowder  Boston Celtics    99.0       SF  25.0    6-6   235.0   \n",
            "2   John Holland  Boston Celtics    30.0       SG  27.0    6-5   205.0   \n",
            "3    R.J. Hunter  Boston Celtics    28.0       SG  22.0    6-5   185.0   \n",
            "4  Jonas Jerebko  Boston Celtics     8.0       PF  29.0   6-10   231.0   \n",
            "\n",
            "             College     Salary  \n",
            "0              Texas  7730337.0  \n",
            "1          Marquette  6796117.0  \n",
            "2  Boston University        NaN  \n",
            "3      Georgia State  1148640.0  \n",
            "4                NaN  5000000.0  \n",
            "           Number         Age      Weight        Salary\n",
            "count  457.000000  457.000000  457.000000  4.460000e+02\n",
            "mean    17.678337   26.938731  221.522976  4.842684e+06\n",
            "std     15.966090    4.404016   26.368343  5.229238e+06\n",
            "min      0.000000   19.000000  161.000000  3.088800e+04\n",
            "25%      5.000000   24.000000  200.000000  1.044792e+06\n",
            "50%     13.000000   26.000000  220.000000  2.839073e+06\n",
            "75%     25.000000   30.000000  240.000000  6.500000e+06\n",
            "max     99.000000   40.000000  307.000000  2.500000e+07\n",
            "Name         1\n",
            "Team         1\n",
            "Number       1\n",
            "Position     1\n",
            "Age          1\n",
            "Height       1\n",
            "Weight       1\n",
            "College     85\n",
            "Salary      12\n",
            "dtype: int64\n",
            "<class 'pandas.core.frame.DataFrame'>\n",
            "RangeIndex: 458 entries, 0 to 457\n",
            "Data columns (total 9 columns):\n",
            " #   Column    Non-Null Count  Dtype  \n",
            "---  ------    --------------  -----  \n",
            " 0   Name      457 non-null    object \n",
            " 1   Team      457 non-null    object \n",
            " 2   Number    457 non-null    float64\n",
            " 3   Position  457 non-null    object \n",
            " 4   Age       457 non-null    float64\n",
            " 5   Height    457 non-null    object \n",
            " 6   Weight    457 non-null    float64\n",
            " 7   College   373 non-null    object \n",
            " 8   Salary    446 non-null    float64\n",
            "dtypes: float64(4), object(5)\n",
            "memory usage: 32.3+ KB\n",
            "None\n"
          ]
        }
      ],
      "source": [
        "# Read CSV\n",
        "df = pd.read_csv('nba.csv')\n",
        "\n",
        "# Display the first few rows of the dataframe\n",
        "print(df.head())\n",
        "\n",
        "# Get summary statistics\n",
        "print(df.describe())\n",
        "\n",
        "# Check for missing values\n",
        "print(df.isnull().sum())\n",
        "\n",
        "# Get information about the dataset\n",
        "print(df.info())"
      ]
    },
    {
      "cell_type": "markdown",
      "metadata": {
        "id": "kCSLIafaEGVK"
      },
      "source": [
        "# Data Wrangling\n",
        "Create a subset of your original data and perform the following.  \n",
        "\n",
        "1. Modify multiple column names.\n",
        "\n",
        "2. Look at the structure of your data – are any variables improperly coded? Such as strings or characters? Convert to correct structure if needed.\n",
        "\n",
        "3. Fix missing and invalid values in data.\n",
        "\n",
        "4. Create new columns based on existing columns or calculations.\n",
        "\n",
        "5. Drop column(s) from your dataset.\n",
        "\n",
        "6. Drop a row(s) from your dataset.\n",
        "\n",
        "7. Sort your data based on multiple variables. \n",
        "\n",
        "8. Filter your data based on some condition. \n",
        "\n",
        "9. Convert all the string values to upper or lower cases in one column.\n",
        "\n",
        "10. Check whether numeric values are present in a given column of your dataframe.\n",
        "\n",
        "11. Group your dataset by one column, and get the mean, min, and max values by group. \n",
        "  * Groupby()\n",
        "  * agg() or .apply()\n",
        "\n",
        "12. Group your dataset by two columns and then sort the aggregated results within the groups. \n",
        "\n",
        "**You are free (and should) to add on to these questions.  Please clearly indicate in your assignment your answers to these questions.**"
      ]
    },
    {
      "cell_type": "code",
      "execution_count": 60,
      "metadata": {
        "id": "4VWWvvynEiQT"
      },
      "outputs": [
        {
          "name": "stdout",
          "output_type": "stream",
          "text": [
            "      PlayerName        TeamName  PlayerNumber PlayerPosition   Age Height  \\\n",
            "0  Avery Bradley  Boston Celtics           0.0             PG  25.0    6-2   \n",
            "1    Jae Crowder  Boston Celtics          99.0             SF  25.0    6-6   \n",
            "2   John Holland  Boston Celtics          30.0             SG  27.0    6-5   \n",
            "3    R.J. Hunter  Boston Celtics          28.0             SG  22.0    6-5   \n",
            "4  Jonas Jerebko  Boston Celtics           8.0             PF  29.0   6-10   \n",
            "\n",
            "   Weight        CollegeName     Salary  \n",
            "0   180.0              Texas  7730337.0  \n",
            "1   235.0          Marquette  6796117.0  \n",
            "2   205.0  Boston University        NaN  \n",
            "3   185.0      Georgia State  1148640.0  \n",
            "4   231.0                NaN  5000000.0  \n"
          ]
        }
      ],
      "source": [
        "# Q1: Modify multiple column names\n",
        "# Renaming columns for easier access\n",
        "df.rename(columns={\n",
        "    'Name': 'PlayerName',\n",
        "    'Team': 'TeamName',\n",
        "    'Number': 'PlayerNumber',\n",
        "    'Position': 'PlayerPosition',\n",
        "    'College': 'CollegeName'\n",
        "}, inplace=True)\n",
        "\n",
        "print(df.head())"
      ]
    },
    {
      "cell_type": "code",
      "execution_count": 61,
      "metadata": {
        "id": "nATPKSaNXD9B"
      },
      "outputs": [
        {
          "name": "stdout",
          "output_type": "stream",
          "text": [
            "<class 'pandas.core.frame.DataFrame'>\n",
            "RangeIndex: 458 entries, 0 to 457\n",
            "Data columns (total 9 columns):\n",
            " #   Column          Non-Null Count  Dtype  \n",
            "---  ------          --------------  -----  \n",
            " 0   PlayerName      457 non-null    object \n",
            " 1   TeamName        457 non-null    object \n",
            " 2   PlayerNumber    457 non-null    float64\n",
            " 3   PlayerPosition  457 non-null    object \n",
            " 4   Age             457 non-null    float64\n",
            " 5   Height          457 non-null    object \n",
            " 6   Weight          457 non-null    float64\n",
            " 7   CollegeName     373 non-null    object \n",
            " 8   Salary          446 non-null    float64\n",
            "dtypes: float64(4), object(5)\n",
            "memory usage: 32.3+ KB\n",
            "None\n",
            "\n",
            "###Changes###\n",
            "<class 'pandas.core.frame.DataFrame'>\n",
            "RangeIndex: 458 entries, 0 to 457\n",
            "Data columns (total 9 columns):\n",
            " #   Column          Non-Null Count  Dtype  \n",
            "---  ------          --------------  -----  \n",
            " 0   PlayerName      457 non-null    object \n",
            " 1   TeamName        457 non-null    object \n",
            " 2   PlayerNumber    458 non-null    int32  \n",
            " 3   PlayerPosition  457 non-null    object \n",
            " 4   Age             458 non-null    int32  \n",
            " 5   Height          457 non-null    object \n",
            " 6   Weight          457 non-null    float64\n",
            " 7   CollegeName     373 non-null    object \n",
            " 8   Salary          446 non-null    float64\n",
            "dtypes: float64(2), int32(2), object(5)\n",
            "memory usage: 28.8+ KB\n",
            "None\n",
            "      PlayerName        TeamName  PlayerNumber PlayerPosition  Age Height  \\\n",
            "0  Avery Bradley  Boston Celtics             0             PG   25    6-2   \n",
            "1    Jae Crowder  Boston Celtics            99             SF   25    6-6   \n",
            "2   John Holland  Boston Celtics            30             SG   27    6-5   \n",
            "3    R.J. Hunter  Boston Celtics            28             SG   22    6-5   \n",
            "4  Jonas Jerebko  Boston Celtics             8             PF   29   6-10   \n",
            "\n",
            "   Weight        CollegeName     Salary  \n",
            "0   180.0              Texas  7730337.0  \n",
            "1   235.0          Marquette  6796117.0  \n",
            "2   205.0  Boston University        NaN  \n",
            "3   185.0      Georgia State  1148640.0  \n",
            "4   231.0                NaN  5000000.0  \n"
          ]
        }
      ],
      "source": [
        "# Q2: Modify data Structure\n",
        "\n",
        "# Check the structure and data types\n",
        "\n",
        "original_df = df.copy(deep=True)\n",
        "print(original_df.info())\n",
        "\n",
        "# Convert playernumber to integer if playernumber are whole numbers\n",
        "df['PlayerNumber'] = df['PlayerNumber'].fillna(0).astype(int)\n",
        "\n",
        "# Convert Age to integer if ages are whole numbers\n",
        "df['Age'] = df['Age'].fillna(0).astype(int)\n",
        "\n",
        "# AlmaMater Column: This column has missing values (373 non-null out of 458)\n",
        "\n",
        "# Salary Column: This column has missing values (446 non-null out of 458)\n",
        "\n",
        "# Check the structure and data types after changes\n",
        "print(\"\\n###Changes###\")\n",
        "\n",
        "print(df.info())\n",
        "print(df.head())"
      ]
    },
    {
      "cell_type": "code",
      "execution_count": 62,
      "metadata": {},
      "outputs": [
        {
          "name": "stdout",
          "output_type": "stream",
          "text": [
            "Missing values per column:\n",
            "PlayerName        0\n",
            "TeamName          0\n",
            "PlayerNumber      0\n",
            "PlayerPosition    0\n",
            "Age               0\n",
            "Height            0\n",
            "Weight            0\n",
            "CollegeName       0\n",
            "Salary            0\n",
            "dtype: int64\n"
          ]
        }
      ],
      "source": [
        "# Q3. Fix missing and invalid values in data.\n",
        "\n",
        "# Fill missing values or drop rows with missing values\n",
        "df['CollegeName'].fillna('Unknown', inplace=True)\n",
        "df['Salary'].fillna(df['Salary'].median(), inplace=True)\n",
        "\n",
        "# Alternatively, drop rows with missing values\n",
        "df.dropna(inplace=True)\n",
        "\n",
        "# Check if there are any remaining missing values\n",
        "missing_values = df.isna().sum()\n",
        "\n",
        "# Print the number of missing values per column\n",
        "print(\"Missing values per column:\")\n",
        "print(missing_values)"
      ]
    },
    {
      "cell_type": "code",
      "execution_count": 63,
      "metadata": {},
      "outputs": [
        {
          "name": "stdout",
          "output_type": "stream",
          "text": [
            "      PlayerName        TeamName  PlayerNumber PlayerPosition  Age Height  \\\n",
            "0  Avery Bradley  Boston Celtics             0             PG   25    6-2   \n",
            "1    Jae Crowder  Boston Celtics            99             SF   25    6-6   \n",
            "2   John Holland  Boston Celtics            30             SG   27    6-5   \n",
            "3    R.J. Hunter  Boston Celtics            28             SG   22    6-5   \n",
            "4  Jonas Jerebko  Boston Celtics             8             PF   29   6-10   \n",
            "\n",
            "   Weight        CollegeName     Salary  HeightInches  SalaryInMillions  \n",
            "0   180.0              Texas  7730337.0            74              7.73  \n",
            "1   235.0          Marquette  6796117.0            78              6.80  \n",
            "2   205.0  Boston University  2839073.0            77              2.84  \n",
            "3   185.0      Georgia State  1148640.0            77              1.15  \n",
            "4   231.0            Unknown  5000000.0            82              5.00  \n"
          ]
        }
      ],
      "source": [
        "# Q4. Create new columns based on existing columns or calculations.\n",
        "\n",
        "# Create a new column for Height in inches\n",
        "df['HeightInches'] = df['Height'].apply(lambda x: int(x.split('-')[0]) * 12 + int(x.split('-')[1]))\n",
        "\n",
        "# Create a new column for Salary in millions\n",
        "df['SalaryInMillions'] = df['Salary'] / 1_000_000\n",
        "\n",
        "# Round the SalaryInMillions column to 2 decimal places\n",
        "df['SalaryInMillions'] = df['SalaryInMillions'].round(2)\n",
        "\n",
        "print(df.head())"
      ]
    },
    {
      "cell_type": "code",
      "execution_count": 72,
      "metadata": {},
      "outputs": [
        {
          "name": "stdout",
          "output_type": "stream",
          "text": [
            "      PlayerName        TeamName  PlayerNumber PlayerPosition  Age Height  \\\n",
            "0  Avery Bradley  Boston Celtics             0             PG   25    6-2   \n",
            "1    Jae Crowder  Boston Celtics            99             SF   25    6-6   \n",
            "2   John Holland  Boston Celtics            30             SG   27    6-5   \n",
            "3    R.J. Hunter  Boston Celtics            28             SG   22    6-5   \n",
            "4  Jonas Jerebko  Boston Celtics             8             PF   29   6-10   \n",
            "\n",
            "   Weight        CollegeName     Salary  HeightInches  \n",
            "0   180.0              Texas  7730337.0            74  \n",
            "1   235.0          Marquette  6796117.0            78  \n",
            "2   205.0  Boston University  2839073.0            77  \n",
            "3   185.0      Georgia State  1148640.0            77  \n",
            "4   231.0            Unknown  5000000.0            82  \n"
          ]
        }
      ],
      "source": [
        "# Q5. Drop column(s) from your dataset.\n",
        "\n",
        "# Drop a column\n",
        "df.drop(columns=['SalaryInMillions'], inplace=True)\n",
        "\n",
        "print(df.head())"
      ]
    },
    {
      "cell_type": "code",
      "execution_count": 75,
      "metadata": {},
      "outputs": [
        {
          "name": "stdout",
          "output_type": "stream",
          "text": [
            "Rows dropped:\n",
            "        PlayerName                TeamName  PlayerNumber PlayerPosition  Age  \\\n",
            "298     Tim Duncan       San Antonio Spurs            21              C   40   \n",
            "304   Andre Miller       San Antonio Spurs            24             PG   40   \n",
            "400  Kevin Garnett  Minnesota Timberwolves            21             PF   40   \n",
            "\n",
            "    Height  Weight  CollegeName     Salary  HeightInches  \n",
            "298   6-11   250.0  Wake Forest  5250000.0            83  \n",
            "304    6-3   200.0         Utah   250750.0            75  \n",
            "400   6-11   240.0      Unknown  8500000.0            83  \n"
          ]
        }
      ],
      "source": [
        "# Q6. Drop a row(s) from your dataset.\n",
        "\n",
        "# Identify rows where Age is greater than 40\n",
        "rows_to_drop = df[df['Age'] > 39]\n",
        "\n",
        "# Drop rows where Age is greater than 40\n",
        "df = df[df['Age'] <= 39]\n",
        "\n",
        "# Print the rows that were dropped\n",
        "print(\"Rows dropped:\")\n",
        "print(rows_to_drop)"
      ]
    },
    {
      "cell_type": "code",
      "execution_count": 78,
      "metadata": {},
      "outputs": [
        {
          "name": "stdout",
          "output_type": "stream",
          "text": [
            "          PlayerName            TeamName  PlayerNumber PlayerPosition  Age  \\\n",
            "311     Kirk Hinrich       Atlanta Hawks            12             SG   35   \n",
            "314      Kyle Korver       Atlanta Hawks            26             SG   35   \n",
            "320  Thabo Sefolosha       Atlanta Hawks            25             SF   32   \n",
            "313   Kris Humphries       Atlanta Hawks            43             PF   31   \n",
            "315     Paul Millsap       Atlanta Hawks             4             PF   31   \n",
            "..               ...                 ...           ...            ...  ...   \n",
            "382        John Wall  Washington Wizards             2             PG   25   \n",
            "371     Jarell Eddie  Washington Wizards             8             SG   24   \n",
            "378  Otto Porter Jr.  Washington Wizards            22             SF   23   \n",
            "369     Bradley Beal  Washington Wizards             3             SG   22   \n",
            "377  Kelly Oubre Jr.  Washington Wizards            12             SF   20   \n",
            "\n",
            "    Height  Weight     CollegeName      Salary  HeightInches  \n",
            "311    6-4   190.0          Kansas   2854940.0            76  \n",
            "314    6-7   212.0       Creighton   5746479.0            79  \n",
            "320    6-7   220.0         Unknown   4000000.0            79  \n",
            "313    6-9   235.0       Minnesota   1000000.0            81  \n",
            "315    6-8   246.0  Louisiana Tech  18671659.0            80  \n",
            "..     ...     ...             ...         ...           ...  \n",
            "382    6-4   195.0        Kentucky  15851950.0            76  \n",
            "371    6-7   218.0   Virginia Tech    561716.0            79  \n",
            "378    6-8   198.0      Georgetown   4662960.0            80  \n",
            "369    6-5   207.0         Florida   5694674.0            77  \n",
            "377    6-7   205.0          Kansas   1920240.0            79  \n",
            "\n",
            "[454 rows x 10 columns]\n"
          ]
        }
      ],
      "source": [
        "# Q7. Sort your data based on multiple variables. \n",
        "\n",
        "# Sort by TeamName and Age\n",
        "df.sort_values(by=['TeamName', 'Age'], ascending=[True, False], inplace=True)\n",
        "\n",
        "print(df)"
      ]
    },
    {
      "cell_type": "code",
      "execution_count": 81,
      "metadata": {},
      "outputs": [
        {
          "name": "stdout",
          "output_type": "stream",
          "text": [
            "         PlayerName            TeamName  PlayerNumber PlayerPosition  Age  \\\n",
            "315    Paul Millsap       Atlanta Hawks             4             PF   31   \n",
            "312      Al Horford       Atlanta Hawks            15              C   30   \n",
            "5      Amir Johnson      Boston Celtics            90             PF   29   \n",
            "23      Brook Lopez       Brooklyn Nets            11              C   28   \n",
            "29   Thaddeus Young       Brooklyn Nets            30             PF   27   \n",
            "..              ...                 ...           ...            ...  ...   \n",
            "448  Gordon Hayward           Utah Jazz            20             SF   26   \n",
            "446  Derrick Favors           Utah Jazz            15             PF   24   \n",
            "375    Nene Hilario  Washington Wizards            42              C   33   \n",
            "373   Marcin Gortat  Washington Wizards            13              C   32   \n",
            "382       John Wall  Washington Wizards             2             PG   25   \n",
            "\n",
            "    Height  Weight     CollegeName      Salary  HeightInches  \n",
            "315    6-8   246.0  Louisiana Tech  18671659.0            80  \n",
            "312   6-10   245.0         Florida  12000000.0            82  \n",
            "5      6-9   240.0         Unknown  12000000.0            81  \n",
            "23     7-0   275.0        Stanford  19689000.0            84  \n",
            "29     6-8   221.0    Georgia Tech  11235955.0            80  \n",
            "..     ...     ...             ...         ...           ...  \n",
            "448    6-8   226.0          Butler  15409570.0            80  \n",
            "446   6-10   265.0    Georgia Tech  12000000.0            82  \n",
            "375   6-11   250.0         Unknown  13000000.0            83  \n",
            "373   6-11   240.0         Unknown  11217391.0            83  \n",
            "382    6-4   195.0        Kentucky  15851950.0            76  \n",
            "\n",
            "[71 rows x 10 columns]\n"
          ]
        }
      ],
      "source": [
        "# Q8. Filter your data based on some condition. \n",
        "\n",
        "# Filter for players with salary greater than 10,000,000\n",
        "df_filtered = df[df['Salary'] > 10000000]\n",
        "\n",
        "print(df_filtered)"
      ]
    },
    {
      "cell_type": "code",
      "execution_count": 82,
      "metadata": {},
      "outputs": [
        {
          "name": "stdout",
          "output_type": "stream",
          "text": [
            "          PlayerName            TeamName  PlayerNumber PlayerPosition  Age  \\\n",
            "311     Kirk Hinrich       Atlanta Hawks            12             SG   35   \n",
            "314      Kyle Korver       Atlanta Hawks            26             SG   35   \n",
            "320  Thabo Sefolosha       Atlanta Hawks            25             SF   32   \n",
            "313   Kris Humphries       Atlanta Hawks            43             PF   31   \n",
            "315     Paul Millsap       Atlanta Hawks             4             PF   31   \n",
            "..               ...                 ...           ...            ...  ...   \n",
            "382        John Wall  Washington Wizards             2             PG   25   \n",
            "371     Jarell Eddie  Washington Wizards             8             SG   24   \n",
            "378  Otto Porter Jr.  Washington Wizards            22             SF   23   \n",
            "369     Bradley Beal  Washington Wizards             3             SG   22   \n",
            "377  Kelly Oubre Jr.  Washington Wizards            12             SF   20   \n",
            "\n",
            "    Height  Weight     CollegeName      Salary  HeightInches  \n",
            "311    6-4   190.0          KANSAS   2854940.0            76  \n",
            "314    6-7   212.0       CREIGHTON   5746479.0            79  \n",
            "320    6-7   220.0         UNKNOWN   4000000.0            79  \n",
            "313    6-9   235.0       MINNESOTA   1000000.0            81  \n",
            "315    6-8   246.0  LOUISIANA TECH  18671659.0            80  \n",
            "..     ...     ...             ...         ...           ...  \n",
            "382    6-4   195.0        KENTUCKY  15851950.0            76  \n",
            "371    6-7   218.0   VIRGINIA TECH    561716.0            79  \n",
            "378    6-8   198.0      GEORGETOWN   4662960.0            80  \n",
            "369    6-5   207.0         FLORIDA   5694674.0            77  \n",
            "377    6-7   205.0          KANSAS   1920240.0            79  \n",
            "\n",
            "[454 rows x 10 columns]\n"
          ]
        }
      ],
      "source": [
        "# Q9. Convert all the string values to upper or lower cases in one column.\n",
        "\n",
        "# Convert college names to uppercase\n",
        "df['CollegeName'] = df['CollegeName'].str.upper()\n",
        "\n",
        "print(df)"
      ]
    },
    {
      "cell_type": "code",
      "execution_count": 83,
      "metadata": {},
      "outputs": [
        {
          "name": "stdout",
          "output_type": "stream",
          "text": [
            "Does 'Age' column contain numeric values? True\n"
          ]
        }
      ],
      "source": [
        "# Q10. Check whether numeric values are present in a given column of your dataframe.\n",
        "\n",
        "# Check for numeric values\n",
        "is_numeric = df['Age'].notna().any()\n",
        "\n",
        "print(f\"Does 'Age' column contain numeric values? {is_numeric}\")"
      ]
    },
    {
      "cell_type": "code",
      "execution_count": 84,
      "metadata": {},
      "outputs": [
        {
          "name": "stdout",
          "output_type": "stream",
          "text": [
            "                              Salary                       \n",
            "                                mean        min         max\n",
            "TeamName                                                   \n",
            "Atlanta Hawks           4.860197e+06   525093.0  18671659.0\n",
            "Boston Celtics          4.092009e+06  1148640.0  12000000.0\n",
            "Brooklyn Nets           3.501898e+06   134215.0  19689000.0\n",
            "Charlotte Hornets       5.222728e+06   189455.0  13500000.0\n",
            "Chicago Bulls           5.785559e+06   525093.0  20093064.0\n",
            "Cleveland Cavaliers     7.321851e+06   111196.0  22970500.0\n",
            "Dallas Mavericks        4.746582e+06   525093.0  16407500.0\n",
            "Denver Nuggets          4.197400e+06   258489.0  14000000.0\n",
            "Detroit Pistons         4.477884e+06   111444.0  16000000.0\n",
            "Golden State Warriors   5.924600e+06   289755.0  15501000.0\n",
            "Houston Rockets         5.018868e+06   200600.0  22359364.0\n",
            "Indiana Pacers          4.450122e+06   211744.0  17120106.0\n",
            "Los Angeles Clippers    6.323643e+06   111444.0  21468695.0\n",
            "Los Angeles Lakers      4.784695e+06   525093.0  25000000.0\n",
            "Memphis Grizzlies       4.883732e+06   700902.0  19688000.0\n",
            "Miami Heat              5.879588e+06   261894.0  22192730.0\n",
            "Milwaukee Bucks         4.350220e+06   295327.0  16407500.0\n",
            "Minnesota Timberwolves  4.157598e+06   947276.0  12700000.0\n",
            "New Orleans Pelicans    4.355304e+06    55722.0  15514031.0\n",
            "New York Knicks         4.581494e+06    30888.0  22875000.0\n",
            "Oklahoma City Thunder   6.251020e+06   222888.0  20158622.0\n",
            "Orlando Magic           4.297248e+06   845059.0  11250000.0\n",
            "Philadelphia 76ers      2.255464e+06   525093.0   6500000.0\n",
            "Phoenix Suns            4.229676e+06    55722.0  13500000.0\n",
            "Portland Trail Blazers  3.220121e+06   525093.0   8042895.0\n",
            "Sacramento Kings        4.778911e+06   525093.0  15851950.0\n",
            "San Antonio Spurs       6.072460e+06   200600.0  19689000.0\n",
            "Toronto Raptors         4.741174e+06   245177.0  13600000.0\n",
            "Utah Jazz               4.204006e+06   900000.0  15409570.0\n",
            "Washington Wizards      5.088576e+06   200600.0  15851950.0\n"
          ]
        }
      ],
      "source": [
        "# Q11. Group your dataset by one column, and get the mean, min, and max values by group. \n",
        "  # * Groupby()\n",
        "  # * agg() or .apply()\n",
        "  \n",
        "grouped = df.groupby('TeamName').agg({\n",
        "    'Salary': ['mean', 'min', 'max']\n",
        "})\n",
        "print(grouped)"
      ]
    },
    {
      "cell_type": "code",
      "execution_count": 85,
      "metadata": {},
      "outputs": [
        {
          "name": "stdout",
          "output_type": "stream",
          "text": [
            "                                         Salary\n",
            "TeamName           PlayerPosition              \n",
            "Atlanta Hawks      C               7.585417e+06\n",
            "                   PF              5.988067e+06\n",
            "                   PG              4.881700e+06\n",
            "                   SF              3.000000e+06\n",
            "                   SG              2.607758e+06\n",
            "...                                         ...\n",
            "Washington Wizards PG              9.011208e+06\n",
            "                   C               8.163476e+06\n",
            "                   PF              5.650000e+06\n",
            "                   SG              2.839248e+06\n",
            "                   SF              2.789700e+06\n",
            "\n",
            "[149 rows x 1 columns]\n"
          ]
        }
      ],
      "source": [
        "# Q12. Group your dataset by two columns and then sort the aggregated results within the groups. \n",
        "\n",
        "# Group by TeamName and PlayerPosition, then get mean PlayerSalary\n",
        "grouped_sorted = df.groupby(['TeamName', 'PlayerPosition']).agg({\n",
        "    'Salary': 'mean'\n",
        "}).sort_values(by=['TeamName', 'Salary'], ascending=[True, False])\n",
        "print(grouped_sorted)"
      ]
    },
    {
      "cell_type": "markdown",
      "metadata": {
        "id": "tujjevRpXEen"
      },
      "source": [
        "# Conclusions  \n",
        "\n",
        "After exploring your dataset, provide a short summary of what you noticed from this dataset.  What would you explore further with more time?"
      ]
    },
    {
      "cell_type": "markdown",
      "metadata": {},
      "source": [
        "### Conclusions:\n",
        "\n",
        "After exploring the NBA dataset, a few key insights stand out:\n",
        "\n",
        "1. **Salary Distribution**: There is a notable variance in player salaries, with some players earning significantly more than others. We filled missing salary values with the average salary, which helped in standardizing the dataset for analysis.\n",
        "\n",
        "2. **Missing Data**: Several players had missing data for their college names or salaries. While the college names were filled with \"Unknown,\" the missing salary data was addressed by substituting with the minimum salary. This is a good temporary fix, but further investigation into the accuracy of salary data would be beneficial.\n",
        "\n",
        "3. **Player Attributes**: Height and weight were relatively uniform across positions but could still show interesting trends if analyzed further in relation to performance or salary. For instance, we can try to analyze if taller players tend to have salary, and likewise with weight\n",
        "\n",
        "4. **Position/College/Team attribute**: We can further analyze each of the coloumns to determine if certain positions/college/team players have salary in contrast to other players in the same role\n",
        "\n",
        "### Further Exploration:\n",
        "\n",
        "With more time, I would explore the following:\n",
        "- **Performance Data**: Incorporate performance metrics such as points per game, rebounds, or assists to analyze how salary correlates with player performance.\n",
        "- **Salary Cap Analysis**: Study how teams manage salary caps, looking for patterns in salary allocation across different positions and teams.\n",
        "- **Height and Weight Analysis**: Investigate how player height and weight impact their performance, position assignments, and salary.\n",
        "- **Career Trajectories**: Analyze player age and experience to explore how these factors influence salary growth over time.\n",
        "- **Advanced Analytics**: Utilize machine learning models to predict player salaries or career longevity based on their physical attributes and performance data.\n",
        "\n"
      ]
    }
  ],
  "metadata": {
    "colab": {
      "include_colab_link": true,
      "name": "07_assignment.ipynb",
      "provenance": []
    },
    "kernelspec": {
      "display_name": "Python 3.11.0 64-bit",
      "language": "python",
      "name": "python3"
    },
    "language_info": {
      "codemirror_mode": {
        "name": "ipython",
        "version": 3
      },
      "file_extension": ".py",
      "mimetype": "text/x-python",
      "name": "python",
      "nbconvert_exporter": "python",
      "pygments_lexer": "ipython3",
      "version": "3.11.0"
    },
    "vscode": {
      "interpreter": {
        "hash": "94c21ec85cd25dc0a9e5b327ed81d1be109db9b6d041e68ffb694c8941427b34"
      }
    }
  },
  "nbformat": 4,
  "nbformat_minor": 0
}
