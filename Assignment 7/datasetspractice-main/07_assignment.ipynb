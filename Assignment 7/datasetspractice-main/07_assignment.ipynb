{
  "cells": [
    {
      "cell_type": "markdown",
      "metadata": {
        "colab_type": "text",
        "id": "view-in-github"
      },
      "source": [
        "<a href=\"https://colab.research.google.com/github/data602sps/datasetspractice/blob/main/07_assignment.ipynb\" target=\"_parent\"><img src=\"https://colab.research.google.com/assets/colab-badge.svg\" alt=\"Open In Colab\"/></a>"
      ]
    },
    {
      "cell_type": "markdown",
      "metadata": {
        "id": "rd2QZetSDszc"
      },
      "source": [
        "# **Assignment 7**\n",
        "\n",
        "# **Weeks 8 & 9 - Pandas**\n",
        "* In this homework assignment, you will explore and analyze a public dataset of your choosing. Since this assignment is “open-ended” in nature, you are free to expand upon the requirements below. However, you must meet the minimum requirments as indicated in each section. \n",
        "\n",
        "* You must use Pandas as the **primary tool** to process your data.\n",
        "\n",
        "* The preferred method for this analysis is in a .ipynb file. Feel free to use whichever platform of your choosing.  \n",
        " * https://www.youtube.com/watch?v=inN8seMm7UI (Getting started with Colab).\n",
        "\n",
        "* Your data should need some \"work\", or be considered \"dirty\".  You must show your skills in data cleaning/wrangling.\n",
        "\n",
        "### **Some data examples:**\n",
        "•\thttps://www.data.gov/\n",
        "\n",
        "•\thttps://opendata.cityofnewyork.us/\n",
        "\n",
        "•\thttps://datasetsearch.research.google.com/\n",
        "\n",
        "•\thttps://archive.ics.uci.edu/ml/index.php\n",
        "\n",
        "### **Resources:**\n",
        "\n",
        "•\thttps://pandas.pydata.org/pandas-docs/stable/getting_started/10min.html \n",
        "\n",
        "•\thttps://pandas.pydata.org/pandas-docs/stable/user_guide/visualization.html\n",
        "\n",
        "\n",
        "### **Headings or comments**\n",
        "**You are required to make use of comments, or headings for each section.  You must explain what your code is doing, and the results of running your code.**  Act as if you were giving this assignment to your manager - you must include clear and descriptive information for each section.\n",
        "\n",
        "### **You may work as a group or indivdually on this assignment.**\n"
      ]
    },
    {
      "cell_type": "markdown",
      "metadata": {
        "id": "uW3w6p8rqgxu"
      },
      "source": [
        "# Introduction\n",
        "\n",
        "In this section, please describe the dataset you are using.  Include a link to the source of this data.  You should also provide some explanation on why you choose this dataset."
      ]
    },
    {
      "cell_type": "markdown",
      "metadata": {
        "id": "L0PnfMOFzOXz"
      },
      "source": [
        "The dataset being used contains player information from the NBA. It includes the following columns:\n",
        "\n",
        "- **Name**: The name of the player.\n",
        "- **Team**: The team the player is associated with, in this case, all players belong to the Boston Celtics.\n",
        "- **Number**: The jersey number of the player.\n",
        "- **Position**: The player's position on the team, such as point guard (PG), small forward (SF), etc.\n",
        "- **Age**: The age of the player.\n",
        "- **Height**: The height of the player, typically in feet and inches.\n",
        "- **Weight**: The player's weight in pounds.\n",
        "- **AlmaMater**: The college the player attended (if applicable).\n",
        "- **Salary**: The player's salary in USD (some values are missing).\n",
        "\n",
        "### Source of the Data\n",
        "The dataset was part of the zip file\n",
        "\n",
        "### Reason for Choosing This Dataset\n",
        "I chose this dataset because I like basketball"
      ]
    },
    {
      "cell_type": "markdown",
      "metadata": {
        "id": "3bp8cdDxDs2t"
      },
      "source": [
        "______________\n",
        "# Data Exploration\n",
        "Import your dataset into your .ipynb, create dataframes, and explore your data.  \n",
        "\n",
        "Include: \n",
        "\n",
        "* Summary statistics means, medians, quartiles, \n",
        "* Missing value information\n",
        "* Any other relevant information about the dataset.  \n",
        "\n"
      ]
    },
    {
      "cell_type": "code",
      "execution_count": 3,
      "metadata": {
        "id": "1OJmbafkEhhq"
      },
      "outputs": [],
      "source": [
        "# Import pandas\n",
        "import pandas as pd"
      ]
    },
    {
      "cell_type": "code",
      "execution_count": 10,
      "metadata": {
        "id": "b0WTKtqozNn1"
      },
      "outputs": [
        {
          "name": "stdout",
          "output_type": "stream",
          "text": [
            "            Name            Team  Number Position   Age Height  Weight  \\\n",
            "0  Avery Bradley  Boston Celtics     0.0       PG  25.0    6-2   180.0   \n",
            "1    Jae Crowder  Boston Celtics    99.0       SF  25.0    6-6   235.0   \n",
            "2   John Holland  Boston Celtics    30.0       SG  27.0    6-5   205.0   \n",
            "3    R.J. Hunter  Boston Celtics    28.0       SG  22.0    6-5   185.0   \n",
            "4  Jonas Jerebko  Boston Celtics     8.0       PF  29.0   6-10   231.0   \n",
            "\n",
            "             College     Salary  \n",
            "0              Texas  7730337.0  \n",
            "1          Marquette  6796117.0  \n",
            "2  Boston University        NaN  \n",
            "3      Georgia State  1148640.0  \n",
            "4                NaN  5000000.0  \n",
            "           Number         Age      Weight        Salary\n",
            "count  457.000000  457.000000  457.000000  4.460000e+02\n",
            "mean    17.678337   26.938731  221.522976  4.842684e+06\n",
            "std     15.966090    4.404016   26.368343  5.229238e+06\n",
            "min      0.000000   19.000000  161.000000  3.088800e+04\n",
            "25%      5.000000   24.000000  200.000000  1.044792e+06\n",
            "50%     13.000000   26.000000  220.000000  2.839073e+06\n",
            "75%     25.000000   30.000000  240.000000  6.500000e+06\n",
            "max     99.000000   40.000000  307.000000  2.500000e+07\n",
            "Name         1\n",
            "Team         1\n",
            "Number       1\n",
            "Position     1\n",
            "Age          1\n",
            "Height       1\n",
            "Weight       1\n",
            "College     85\n",
            "Salary      12\n",
            "dtype: int64\n",
            "<class 'pandas.core.frame.DataFrame'>\n",
            "RangeIndex: 458 entries, 0 to 457\n",
            "Data columns (total 9 columns):\n",
            " #   Column    Non-Null Count  Dtype  \n",
            "---  ------    --------------  -----  \n",
            " 0   Name      457 non-null    object \n",
            " 1   Team      457 non-null    object \n",
            " 2   Number    457 non-null    float64\n",
            " 3   Position  457 non-null    object \n",
            " 4   Age       457 non-null    float64\n",
            " 5   Height    457 non-null    object \n",
            " 6   Weight    457 non-null    float64\n",
            " 7   College   373 non-null    object \n",
            " 8   Salary    446 non-null    float64\n",
            "dtypes: float64(4), object(5)\n",
            "memory usage: 32.3+ KB\n",
            "None\n"
          ]
        }
      ],
      "source": [
        "# Read CSV\n",
        "df = pd.read_csv('nba.csv')\n",
        "\n",
        "# Display the first few rows of the dataframe\n",
        "print(df.head())\n",
        "\n",
        "# Get summary statistics\n",
        "print(df.describe())\n",
        "\n",
        "# Check for missing values\n",
        "print(df.isnull().sum())\n",
        "\n",
        "# Get information about the dataset\n",
        "print(df.info())"
      ]
    },
    {
      "cell_type": "markdown",
      "metadata": {
        "id": "kCSLIafaEGVK"
      },
      "source": [
        "# Data Wrangling\n",
        "Create a subset of your original data and perform the following.  \n",
        "\n",
        "1. Modify multiple column names.\n",
        "\n",
        "2. Look at the structure of your data – are any variables improperly coded? Such as strings or characters? Convert to correct structure if needed.\n",
        "\n",
        "3. Fix missing and invalid values in data.\n",
        "\n",
        "4. Create new columns based on existing columns or calculations.\n",
        "\n",
        "5. Drop column(s) from your dataset.\n",
        "\n",
        "6. Drop a row(s) from your dataset.\n",
        "\n",
        "7. Sort your data based on multiple variables. \n",
        "\n",
        "8. Filter your data based on some condition. \n",
        "\n",
        "9. Convert all the string values to upper or lower cases in one column.\n",
        "\n",
        "10. Check whether numeric values are present in a given column of your dataframe.\n",
        "\n",
        "11. Group your dataset by one column, and get the mean, min, and max values by group. \n",
        "  * Groupby()\n",
        "  * agg() or .apply()\n",
        "\n",
        "12. Group your dataset by two columns and then sort the aggregated results within the groups. \n",
        "\n",
        "**You are free (and should) to add on to these questions.  Please clearly indicate in your assignment your answers to these questions.**"
      ]
    },
    {
      "cell_type": "code",
      "execution_count": null,
      "metadata": {
        "id": "4VWWvvynEiQT"
      },
      "outputs": [],
      "source": []
    },
    {
      "cell_type": "code",
      "execution_count": null,
      "metadata": {
        "id": "nATPKSaNXD9B"
      },
      "outputs": [],
      "source": []
    },
    {
      "cell_type": "markdown",
      "metadata": {
        "id": "tujjevRpXEen"
      },
      "source": [
        "# Conclusions  \n",
        "\n",
        "After exploring your dataset, provide a short summary of what you noticed from this dataset.  What would you explore further with more time?"
      ]
    },
    {
      "cell_type": "code",
      "execution_count": null,
      "metadata": {
        "id": "SshtuQj9XR5_"
      },
      "outputs": [],
      "source": []
    }
  ],
  "metadata": {
    "colab": {
      "include_colab_link": true,
      "name": "07_assignment.ipynb",
      "provenance": []
    },
    "kernelspec": {
      "display_name": "Python 3.11.0 64-bit",
      "language": "python",
      "name": "python3"
    },
    "language_info": {
      "codemirror_mode": {
        "name": "ipython",
        "version": 3
      },
      "file_extension": ".py",
      "mimetype": "text/x-python",
      "name": "python",
      "nbconvert_exporter": "python",
      "pygments_lexer": "ipython3",
      "version": "3.11.0"
    },
    "vscode": {
      "interpreter": {
        "hash": "94c21ec85cd25dc0a9e5b327ed81d1be109db9b6d041e68ffb694c8941427b34"
      }
    }
  },
  "nbformat": 4,
  "nbformat_minor": 0
}
