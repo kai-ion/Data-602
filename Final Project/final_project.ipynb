{
 "cells": [
  {
   "cell_type": "markdown",
   "metadata": {},
   "source": [
    "1.Research Question\n",
    "How has the performance of NFL teams evolved over the past decade in terms of win percentages and offensive metrics?\n",
    "\n",
    "2.Justification - why is this relevant?\n",
    "This project is especially relevant with the start of the new 2024 NFL season, as it will allow us to examine changes in team offenses over the past 10 years and provide insights into how teams’ offenses have improved. These findings can also help fans anticipate trends and performances in the upcoming season.\n",
    "\n",
    "3.Data Sources\n",
    "NFL dataset \n",
    "- https://www.kaggle.com/datasets/philiphyde1/nfl-stats-1999-2022\n",
    "- https://www.kaggle.com/datasets/nickcantalupa/nfl-team-data-2003-2023/code\n",
    "\n",
    "4.Libraries Used\n",
    "- pandas for data manipulation and analysis\n",
    "- matplotlib and seaborn for visualization\n",
    "- scikit-learn for any machine learning models or predictions"
   ]
  }
 ],
 "metadata": {
  "kernelspec": {
   "display_name": "Python 3.11.0 64-bit",
   "language": "python",
   "name": "python3"
  },
  "language_info": {
   "name": "python",
   "version": "3.11.0"
  },
  "orig_nbformat": 4,
  "vscode": {
   "interpreter": {
    "hash": "94c21ec85cd25dc0a9e5b327ed81d1be109db9b6d041e68ffb694c8941427b34"
   }
  }
 },
 "nbformat": 4,
 "nbformat_minor": 2
}
